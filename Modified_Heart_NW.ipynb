{
 "cells": [
  {
   "cell_type": "code",
   "execution_count": null,
   "id": "299f6863-5244-4427-862c-09bc594be9d6",
   "metadata": {},
   "outputs": [
    {
     "ename": "",
     "evalue": "",
     "output_type": "error",
     "traceback": [
      "\u001b[1;31mRunning cells with 'Python 3.12.6' requires the ipykernel package.\n",
      "\u001b[1;31mRun the following command to install 'ipykernel' into the Python environment. \n",
      "\u001b[1;31mCommand: 'c:/Users/KurniaRizkyRamadhani/AppData/Local/Programs/Python/Python312/python.exe -m pip install ipykernel -U --user --force-reinstall'"
     ]
    }
   ],
   "source": [
    "import numpy as np\n",
    "from numpy import loadtxt\n"
   ]
  },
  {
   "cell_type": "code",
   "execution_count": null,
   "id": "7eb4b3d6-c13e-4f9a-a747-303b186fa257",
   "metadata": {},
   "outputs": [],
   "source": [
    "train_data = np.loadtxt('Modified_Nvidia_Data', delimiter=',')\n",
    "print(\"Train Data:\\n\", train_data[:5])"
   ]
  },
  {
   "cell_type": "code",
   "execution_count": null,
   "id": "2c0be963-33a4-4379-906c-a7c0cfd662b4",
   "metadata": {},
   "outputs": [],
   "source": [
    "# Pisahkan fitur dan label pada data training\n",
    "X_train = train_data[:, :-1]  # Semua kolom kecuali kolom terakhir (fitur)\n",
    "y_train = train_data[:, -1]   # Kolom terakhir (label)\n",
    "\n",
    "# Transpose X_train untuk memudahkan perhitungan\n",
    "X_train = X_train.T\n",
    "y_train = y_train.reshape((1, -1))  # Ubah y_train menjadi bentuk (1, jumlah sampel)\n",
    "\n",
    "# Periksa bentuk data\n",
    "print(\"X_train shape:\", X_train.shape)\n",
    "print(\"y_train shape:\", y_train.shape)"
   ]
  },
  {
   "cell_type": "code",
   "execution_count": null,
   "id": "cd82314e-a7a6-4464-b494-c9ee49dba042",
   "metadata": {},
   "outputs": [],
   "source": [
    "# Bobot dan bias untuk input layer ke hidden layer 1 (13 fitur ke 20 neuron)\n",
    "w1 = np.random.rand(20, 13)\n",
    "b1 = np.zeros((20, 1))\n",
    "\n",
    "# Bobot dan bias untuk hidden layer 1 ke hidden layer 2 (20 neuron ke 10 neuron)\n",
    "w2 = np.random.rand(10, 20)\n",
    "b2 = np.zeros((10, 1))\n",
    "\n",
    "# Bobot dan bias untuk hidden layer 2 ke output layer (10 neuron ke 1 output)\n",
    "w3 = np.random.rand(1, 10)\n",
    "b3 = np.zeros((1, 1))"
   ]
  },
  {
   "cell_type": "code",
   "execution_count": null,
   "id": "897db5c4-5afe-458e-a151-850b673e1abb",
   "metadata": {},
   "outputs": [],
   "source": [
    "def sigmoid(z):\n",
    "    return 1 / (1 + np.exp(-z))"
   ]
  },
  {
   "cell_type": "code",
   "execution_count": null,
   "id": "5968420a-6ee0-41bc-8d2a-09381fb3b580",
   "metadata": {},
   "outputs": [],
   "source": [
    "# Inisialisasi learning rate\n",
    "learning_rate = 0.001\n",
    "\n",
    "# Training loop\n",
    "for i in range(2000):\n",
    "    # Layer input ke hidden layer 1\n",
    "    z1 = np.dot(w1, X_train) + b1  # (20, 13) * (13, 100) -> (20, 100)\n",
    "    a1 = sigmoid(z1)  # Output layer 1 (20, 100)\n",
    "\n",
    "    # Hidden layer 1 ke hidden layer 2\n",
    "    z2 = np.dot(w2, a1) + b2  # (10, 20) * (20, 100) -> (10, 100)\n",
    "    a2 = sigmoid(z2)  # Output layer 2 (10, 100)\n",
    "\n",
    "    # Hidden layer 2 ke output layer\n",
    "    z3 = np.dot(w3, a2) + b3  # (1, 10) * (10, 100) -> (1, 100)\n",
    "    a3 = sigmoid(z3)  # Output layer (1, 100)\n",
    "\n",
    "    # Prediksi (output)\n",
    "    yhat = a3\n",
    "\n",
    "    # Loss function (Binary Cross-Entropy Loss)\n",
    "    L = -y_train * np.log(yhat) - (1 - y_train) * np.log(1 - yhat)\n",
    "    m = y_train.shape[1]  # Jumlah sampel\n",
    "    J = (1 / m) * np.sum(L)\n",
    "\n",
    "    # Backpropagation\n",
    "    dz3 = a3 - y_train  # (1, 100)\n",
    "\n",
    "    # Gradien error di hidden layer 2\n",
    "    dz2 = np.dot(w3.T, dz3) * a2 * (1 - a2)  # (10, 100)\n",
    "\n",
    "    # Gradien error di hidden layer 1\n",
    "    dz1 = np.dot(w2.T, dz2) * a1 * (1 - a1)  # (20, 100)\n",
    "\n",
    "    # Update bobot dan bias\n",
    "    w3 -= learning_rate * np.dot(dz3, a2.T) / m  # (1, 100) * (100, 10) -> (1, 10)\n",
    "    b3 -= learning_rate * np.sum(dz3, axis=1, keepdims=True) / m  # (1, 1)\n",
    "\n",
    "    w2 -= learning_rate * np.dot(dz2, a1.T) / m  # (10, 100) * (100, 20) -> (10, 20)\n",
    "    b2 -= learning_rate * np.sum(dz2, axis=1, keepdims=True) / m  # (10, 1)\n",
    "\n",
    "    w1 -= learning_rate * np.dot(dz1, X_train.T) / m  # (20, 100) * (100, 13) -> (20, 13)\n",
    "    b1 -= learning_rate * np.sum(dz1, axis=1, keepdims=True) / m  # (20, 1)\n",
    "\n",
    "    # Print loss setiap 100 iterasi\n",
    "    if i % 100 == 0:\n",
    "        print(f\"Iteration {i}, Loss: {J}\")\n",
    "\n",
    "# Print hasil setelah training selesai\n",
    "print(\"Training selesai.\")"
   ]
  },
  {
   "cell_type": "code",
   "execution_count": null,
   "id": "ab402b8c-0c71-4034-ae24-43d1bc06969b",
   "metadata": {},
   "outputs": [],
   "source": [
    "a3\n"
   ]
  },
  {
   "cell_type": "code",
   "execution_count": null,
   "id": "2c243893-d72c-4761-89cb-8f4a9cf1ff39",
   "metadata": {},
   "outputs": [],
   "source": [
    "# Muat data uji\n",
    "test_data = np.loadtxt('test.csv', delimiter=',')\n",
    "\n",
    "# Pisahkan fitur dan label pada data test\n",
    "X_test = test_data[:, :-1]  # Semua kolom kecuali kolom terakhir (fitur)\n",
    "y_test = test_data[:, -1]   # Kolom terakhir (label)\n",
    "\n",
    "# Ubah bentuk y_test agar sesuai dengan dimensi yang diharapkan\n",
    "y_test = y_test.reshape((-1, 1)).T  # (1, jumlah sampel)\n",
    "\n",
    "# Periksa bentuk data test\n",
    "print(\"X_test shape:\", X_test.shape)\n",
    "print(\"y_test shape:\", y_test.shape)\n"
   ]
  },
  {
   "cell_type": "code",
   "execution_count": null,
   "id": "42f1fa68-97d9-4e8c-a174-fef27d6ed613",
   "metadata": {},
   "outputs": [],
   "source": [
    "# Pastikan X_test memiliki bentuk (jumlah fitur, jumlah sampel)\n",
    "X_test = X_test.T  # Transpose jika bentuknya (jumlah sampel, jumlah fitur)\n",
    "\n",
    "# Lakukan forward pass pada data uji\n",
    "z1_test = np.dot(w1, X_test) + b1  # (20, 13) * (13, 25) -> (20, 25)\n",
    "a1_test = sigmoid(z1_test)  # Output layer 1 (20, 25)\n",
    "\n",
    "z2_test = np.dot(w2, a1_test) + b2  # (10, 20) * (20, 25) -> (10, 25)\n",
    "a2_test = sigmoid(z2_test)  # Output layer 2 (10, 25)\n",
    "\n",
    "z3_test = np.dot(w3, a2_test) + b3  # (1, 10) * (10, 25) -> (1, 25)\n",
    "a3_test = sigmoid(z3_test)  # Output layer (1, 25)\n",
    "\n",
    "# Prediksi (output)\n",
    "yhat_test = a3_test\n",
    "\n",
    "# Hitung loss pada data uji (Binary Cross-Entropy Loss)\n",
    "L_test = -y_test * np.log(yhat_test) - (1 - y_test) * np.log(1 - yhat_test)\n",
    "m_test = y_test.shape[1]  # Jumlah sampel uji\n",
    "J_test = (1 / m_test) * np.sum(L_test)\n",
    "\n",
    "print(\"Loss pada data uji:\", J_test)\n",
    "\n",
    "# Evaluasi akurasi (bila digunakan threshold 0.5 untuk binary classification)\n",
    "predictions = (yhat_test > 0.5).astype(int)  # Prediksi berdasarkan threshold 0.5\n",
    "accuracy = np.mean(predictions == y_test)  # Hitung akurasi\n",
    "\n",
    "print(\"Akurasi pada data uji:\", accuracy)\n",
    "\n"
   ]
  },
  {
   "cell_type": "code",
   "execution_count": null,
   "id": "72bf3690-0cff-4c94-9dd2-26c08d2af76d",
   "metadata": {},
   "outputs": [],
   "source": []
  },
  {
   "cell_type": "code",
   "execution_count": null,
   "id": "379cb5f5",
   "metadata": {},
   "outputs": [],
   "source": [
    "\n",
    "import pandas as pd\n",
    "\n",
    "# Load the new data\n",
    "data = pd.read_csv('Modified_Nvidia_Data.csv')\n",
    "print(data.head())\n",
    "\n",
    "# Check the data length\n",
    "print(f\"Data length: {len(data)} rows\")\n"
   ]
  }
 ],
 "metadata": {
  "kernelspec": {
   "display_name": "Python 3",
   "language": "python",
   "name": "python3"
  },
  "language_info": {
   "codemirror_mode": {
    "name": "ipython",
    "version": 3
   },
   "file_extension": ".py",
   "mimetype": "text/x-python",
   "name": "python",
   "nbconvert_exporter": "python",
   "pygments_lexer": "ipython3",
   "version": "3.12.6"
  }
 },
 "nbformat": 4,
 "nbformat_minor": 5
}
